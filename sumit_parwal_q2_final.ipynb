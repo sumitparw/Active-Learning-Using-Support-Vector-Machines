{
 "cells": [
  {
   "cell_type": "code",
   "execution_count": 13,
   "metadata": {},
   "outputs": [],
   "source": [
    "import numpy as np\n",
    "import pandas as pd\n",
    "import matplotlib.pyplot as plt\n",
    "import warnings\n",
    "from sklearn.utils import shuffle\n",
    "from sklearn.model_selection import GridSearchCV\n",
    "from sklearn.svm import LinearSVC\n",
    "from sklearn.model_selection import KFold\n",
    "from sklearn.model_selection import GridSearchCV\n",
    "from sklearn.svm import LinearSVC\n",
    "from sklearn.model_selection import KFold\n",
    "warnings.filterwarnings(\"ignore\")"
   ]
  },
  {
   "cell_type": "markdown",
   "metadata": {},
   "source": [
    "**(a)**\n"
   ]
  },
  {
   "cell_type": "code",
   "execution_count": 17,
   "metadata": {},
   "outputs": [
    {
     "data": {
      "text/plain": [
       "(1372, 4)"
      ]
     },
     "execution_count": 17,
     "metadata": {},
     "output_type": "execute_result"
    }
   ],
   "source": [
    "\n",
    "dataset = np.loadtxt(\"data_banknote_authentication.txt\",delimiter=\",\")\n",
    "\n",
    "data = dataset[:,:4]\n",
    "labels = dataset[:,4]\n",
    "#data\n",
    "np.shape(data)\n",
    "# col = np.where(labels==0,'k',np.where(labels==1,'b','r'))\n"
   ]
  },
  {
   "cell_type": "code",
   "execution_count": 18,
   "metadata": {},
   "outputs": [
    {
     "data": {
      "text/plain": [
       "(1372,)"
      ]
     },
     "execution_count": 18,
     "metadata": {},
     "output_type": "execute_result"
    }
   ],
   "source": [
    "#label\n",
    "np.shape(labels)"
   ]
  },
  {
   "cell_type": "code",
   "execution_count": 19,
   "metadata": {},
   "outputs": [
    {
     "name": "stdout",
     "output_type": "stream",
     "text": [
      "Test data shape      :  (472, 5)\n",
      "Training data shape  :  (900, 5)\n",
      "Target data shape  :  (900,)\n"
     ]
    }
   ],
   "source": [
    "testset = []\n",
    "trainingset = []\n",
    "targetset= []\n",
    "zerocounter, onecounter = 0,0\n",
    "for i in range(np.shape(dataset)[0]):\n",
    "    if dataset[i][4] == 0:\n",
    "        zerocounter += 1\n",
    "        if zerocounter <= 312:\n",
    "            testset.append(dataset[i])\n",
    "        else:\n",
    "            trainingset.append(dataset[i])\n",
    "            targetset.append(dataset[i][4])\n",
    "    elif dataset[i][4] == 1:\n",
    "        onecounter += 1\n",
    "        if onecounter <= 160:\n",
    "            testset.append(dataset[i])\n",
    "        else:\n",
    "            trainingset.append(dataset[i])\n",
    "            targetset.append(dataset[i][4])\n",
    "\n",
    "test = np.array(testset)\n",
    "train = np.array(trainingset)\n",
    "target = np.array(targetset)\n",
    "\n",
    "print (\"Test data shape      : \",test.shape)\n",
    "print (\"Training data shape  : \",train.shape)\n",
    "print (\"Target data shape  : \",target.shape)\n"
   ]
  },
  {
   "cell_type": "markdown",
   "metadata": {},
   "source": [
    "(b)i)"
   ]
  },
  {
   "cell_type": "code",
   "execution_count": 4,
   "metadata": {},
   "outputs": [],
   "source": [
    "cols=['variance','skewness','curtosis','entropy']\n",
    "cols2=['variance','skewness','curtosis','entropy','class']\n",
    "\n",
    "X_train=pd.DataFrame(train[:,:4],columns=cols)\n",
    "#print(X_train)\n",
    "X_test=pd.DataFrame(test[:,:4],columns=cols)\n",
    "\n",
    "y_train=pd.DataFrame(train[:,4],columns=['class'])\n",
    "y_test=pd.DataFrame(test[:,4],columns=['class'])\n",
    "#print(y_test)\n",
    "train_df_master=pd.DataFrame(train,columns=cols2)\n",
    "test_df_master=pd.DataFrame(test,columns=cols2)"
   ]
  },
  {
   "cell_type": "code",
   "execution_count": 22,
   "metadata": {},
   "outputs": [],
   "source": [
    "\n",
    "\n",
    "kf=KFold(n_splits=10)\n",
    "svc=LinearSVC(penalty='l1',dual=False)\n",
    "\n",
    "#parameters={'C':np.linspace(0.01,5,50)}\n",
    "parameters={'C':[1,10]}\n",
    "gsc=GridSearchCV(svc,parameters,cv=kf)\n",
    "\n",
    "passiveErrors = np.zeros(90)\n",
    "errors=[]\n",
    "\n",
    "for n in range(0,50):\n",
    "    temp_DF=pd.DataFrame()\n",
    "    errors=[]\n",
    "    train_df_parent=train_df_master\n",
    "    test_df_parent=test_df_master\n",
    "    x_axis=[]\n",
    "    \n",
    "    for i in range(0,90):\n",
    "\n",
    "        #print(i)\n",
    "        tempArray_0=train_df_parent.loc[train_df_parent['class'] == 0].sample(n=5)\n",
    "        tempArray_1=train_df_parent.loc[train_df_parent['class'] == 1].sample(n=5)\n",
    "        x=[temp_DF,tempArray_0,tempArray_1]\n",
    "        temp_DF=pd.concat(x)\n",
    "\n",
    "        #print(temp_DF.shape)\n",
    "        train_df_parent=train_df_parent[~train_df_parent.index.isin(temp_DF.index)]\n",
    "        #print(train_df_parent.shape)\n",
    "\n",
    "        gsc.fit(temp_DF.loc[:,:'entropy'],temp_DF['class'])\n",
    "        accuracy_score=gsc.score(test_df_parent.loc[:,:'entropy'],test_df_parent['class'])\n",
    "        err=1-accuracy_score\n",
    "        errors.append(err)\n",
    "        passiveErrors[i]+=err\n",
    "        x_axis.append(i)\n",
    "#print(errors)\n",
    "        "
   ]
  },
  {
   "cell_type": "code",
   "execution_count": 23,
   "metadata": {},
   "outputs": [
    {
     "ename": "SyntaxError",
     "evalue": "invalid syntax (<ipython-input-23-43a0a36be7ba>, line 2)",
     "output_type": "error",
     "traceback": [
      "\u001b[1;36m  File \u001b[1;32m\"<ipython-input-23-43a0a36be7ba>\"\u001b[1;36m, line \u001b[1;32m2\u001b[0m\n\u001b[1;33m    df_svm_passive = pd.DataFrame(zero_data, columns=['SVM','Errors'])\u001b[0m\n\u001b[1;37m                 ^\u001b[0m\n\u001b[1;31mSyntaxError\u001b[0m\u001b[1;31m:\u001b[0m invalid syntax\n"
     ]
    }
   ],
   "source": [
    "zero_data = np.zeros(shape=(90,2)\n",
    "df_svm_passive = pd.DataFrame(zero_data, columns=['SVM','Errors'])\n",
    "for i in range(90):\n",
    "    df_svm_passive[i]['SVM'] = i+1\n",
    "    df_svm_passive[i]['Errors'] = errors[i]\n",
    "    "
   ]
  },
  {
   "cell_type": "code",
   "execution_count": null,
   "metadata": {},
   "outputs": [],
   "source": [
    "print(\"\\n\")\n",
    "\n",
    "plt.title('Test-errors for 90 SVMs- Passive Learning at 50th step')\n",
    "plt.xlabel('Number of SVMs')\n",
    "plt.ylabel('Test Error')\n",
    "plt.plot(x_axis,errors)\n",
    "plt.show()\n",
    "#print(errors)"
   ]
  },
  {
   "cell_type": "code",
   "execution_count": null,
   "metadata": {},
   "outputs": [],
   "source": [
    "print(np.array(passiveErrors).shape)"
   ]
  },
  {
   "cell_type": "markdown",
   "metadata": {},
   "source": [
    "<h2>ii.) Active Learning</h2>"
   ]
  },
  {
   "cell_type": "code",
   "execution_count": 8,
   "metadata": {},
   "outputs": [],
   "source": [
    "\n",
    "\n",
    "kf=KFold(n_splits=10)\n",
    "svc=LinearSVC(penalty='l1',dual=False)\n",
    "\n",
    "#parameters={'C':np.linspace(0.01,5,50)}\n",
    "parameters={'C':[1,10]}\n",
    "gsc=GridSearchCV(svc,parameters,cv=kf)\n",
    "\n",
    "activeErrors = np.zeros(90)\n",
    "errors=[]\n",
    "\n",
    "for n in range(0,50):\n",
    "    temp_DF=pd.DataFrame()\n",
    "    errors=[]\n",
    "    train_df_parent=train_df_master\n",
    "    test_df_parent=test_df_master\n",
    "    x_axis=[]\n",
    "    \n",
    "    tempArray_0=train_df_parent.loc[train_df_parent['class'] == 0].sample(n=5)\n",
    "    tempArray_1=train_df_parent.loc[train_df_parent['class'] == 1].sample(n=5)\n",
    "        \n",
    "    \n",
    "    for i in range(0,90):\n",
    "\n",
    "        #print(i)\n",
    "        x=[temp_DF,tempArray_0,tempArray_1]\n",
    "        temp_DF=pd.concat(x)\n",
    "\n",
    "        #print(temp_DF.shape)\n",
    "        train_df_parent=train_df_parent[~train_df_parent.index.isin(temp_DF.index)]\n",
    "        #print(train_df_parent.shape)\n",
    "        \n",
    "        gsc.fit(temp_DF.loc[:,:'entropy'],temp_DF['class'])\n",
    "        accuracy_score=gsc.score(test_df_parent.loc[:,:'entropy'],test_df_parent['class'])\n",
    "        err=1-accuracy_score\n",
    "        errors.append(err)\n",
    "        activeErrors[i]+=err\n",
    "        x_axis.append(i)\n",
    "        \n",
    "        if i==89:\n",
    "            continue\n",
    "        y=gsc.decision_function(train_df_parent.loc[:,:'entropy'])\n",
    "        y=abs(y)\n",
    "        x_loc=y.argsort()[:10]\n",
    "       \n",
    "        tempArray_0=train_df_parent.iloc[x_loc,:]\n",
    "        tempArray_1=pd.DataFrame()\n",
    "        \n",
    "        \n",
    "#print(errors)\n",
    "#x_axis.append(89)    "
   ]
  },
  {
   "cell_type": "code",
   "execution_count": null,
   "metadata": {},
   "outputs": [],
   "source": [
    "zero_data = np.zeros(shape=(90,2)\n",
    "df_svm_active = pd.DataFrame(zero_data, columns=['SVM','Errors'])\n",
    "for i in range(90):\n",
    "    df_svm_active[i]['SVM'] = i+1\n",
    "    df_svm_active[i]['Errors'] = errors[i]\n",
    "    "
   ]
  },
  {
   "cell_type": "code",
   "execution_count": 9,
   "metadata": {},
   "outputs": [
    {
     "name": "stdout",
     "output_type": "stream",
     "text": [
      "\n",
      "\n"
     ]
    },
    {
     "data": {
      "image/png": "[encoded data removed]",
      "text/plain": [
       "<Figure size 432x288 with 1 Axes>"
      ]
     },
     "metadata": {
      "needs_background": "light"
     },
     "output_type": "display_data"
    }
   ],
   "source": [
    "print(\"\\n\")\n",
    "\n",
    "plt.title('Test-errors for 90 SVMs- Active Learning at 50th step')\n",
    "plt.xlabel('Number of SVMs')\n",
    "plt.ylabel('Test Error')\n",
    "plt.plot(x_axis,errors)\n",
    "plt.show()\n",
    "#print(errors)"
   ]
  },
  {
   "cell_type": "code",
   "execution_count": 10,
   "metadata": {},
   "outputs": [
    {
     "name": "stdout",
     "output_type": "stream",
     "text": [
      "(90,)\n"
     ]
    }
   ],
   "source": [
    "print(np.array(activeErrors).shape)"
   ]
  },
  {
   "cell_type": "markdown",
   "metadata": {},
   "source": [
    "<h2>(c). Monte Carlo simulation </h2>"
   ]
  },
  {
   "cell_type": "code",
   "execution_count": 11,
   "metadata": {},
   "outputs": [
    {
     "data": {
      "image/png": "[encoded data removed]",
      "text/plain": [
       "<Figure size 432x288 with 1 Axes>"
      ]
     },
     "metadata": {
      "needs_background": "light"
     },
     "output_type": "display_data"
    }
   ],
   "source": [
    "pl = [p/50 for p in passiveErrors]\n",
    "al = [a/50 for a in activeErrors]\n",
    "\n",
    "plt.title('Average Test-errors for 90 SVMs- Passive vs Active Learning')\n",
    "plt.xlabel('Number of SVMs')\n",
    "plt.ylabel('Test Error')\n",
    "plt.plot(x_axis, al,'r',label=\"Active learning\")\n",
    "plt.plot(x_axis, pl,'b',label=\"Passive learning\")\n",
    "plt.legend()\n",
    "plt.show()\n",
    "\n"
   ]
  },
  {
   "cell_type": "markdown",
   "metadata": {},
   "source": [
    "<pre>\n",
    "The error rate decreases rapidly for both, while adding more data points.  Active learning performs better at earlier stages itself.  The smoothness in the curve without much kinks denotes a more stable model, even when the n_samples are less.\n",
    "</pre>"
   ]
  }
 ],
 "metadata": {
  "kernelspec": {
   "display_name": "Python 3",
   "language": "python",
   "name": "python3"
  },
  "language_info": {
   "codemirror_mode": {
    "name": "ipython",
    "version": 3
   },
   "file_extension": ".py",
   "mimetype": "text/x-python",
   "name": "python",
   "nbconvert_exporter": "python",
   "pygments_lexer": "ipython3",
   "version": "3.7.3"
  }
 },
 "nbformat": 4,
 "nbformat_minor": 2
}
